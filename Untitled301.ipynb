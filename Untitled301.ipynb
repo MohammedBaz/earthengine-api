{
  "nbformat": 4,
  "nbformat_minor": 0,
  "metadata": {
    "colab": {
      "name": "Untitled301.ipynb",
      "provenance": [],
      "authorship_tag": "ABX9TyMnVHfY+W7HBRmgCllSWbmW",
      "include_colab_link": true
    },
    "kernelspec": {
      "name": "python3",
      "display_name": "Python 3"
    },
    "language_info": {
      "name": "python"
    }
  },
  "cells": [
    {
      "cell_type": "markdown",
      "metadata": {
        "id": "view-in-github",
        "colab_type": "text"
      },
      "source": [
        "<a href=\"https://colab.research.google.com/github/MohammedBaz/earthengine-api/blob/master/Untitled301.ipynb\" target=\"_parent\"><img src=\"https://colab.research.google.com/assets/colab-badge.svg\" alt=\"Open In Colab\"/></a>"
      ]
    },
    {
      "cell_type": "code",
      "metadata": {
        "id": "oQxWehgjnJLU"
      },
      "source": [
        "import os \n",
        "import ee\n",
        "import config\n",
        "ee.Initialize(config.EE_CREDENTIALS)\n",
        "import geemap\n",
        "Map = geemap.Map(center=(40, -100), zoom=4)\n",
        "dem = ee.Image('USGS/SRTMGL1_003')\n",
        "landcover = ee.Image(\"ESA/GLOBCOVER_L4_200901_200912_V2_3\").select('landcover')\n",
        "landsat7 = ee.Image('LE7_TOA_5YEAR/1999_2003')\n",
        "states = ee.FeatureCollection(\"TIGER/2018/States\")\n",
        "\n",
        "# Set visualization parameters.\n",
        "vis_params = {\n",
        "  'min': 0,\n",
        "  'max': 4000,\n",
        "  'palette': ['006633', 'E5FFCC', '662A00', 'D8D8D8', 'F5F5F5']}\n",
        "\n",
        "# Add Earth Eninge layers to Map\n",
        "Map.addLayer(landsat7, {'bands': ['B4', 'B3', 'B2'], 'min': 20, 'max': 200}, 'Landsat 7')\n",
        "Map.addLayer(landcover, {}, 'Land cover')\n",
        "Map.addLayer(dem, vis_params, 'STRM DEM', True, 1)\n",
        "Map.addLayer(states, {}, \"US States\")\n",
        "\n",
        "Map\n"
      ],
      "execution_count": null,
      "outputs": []
    }
  ]
}